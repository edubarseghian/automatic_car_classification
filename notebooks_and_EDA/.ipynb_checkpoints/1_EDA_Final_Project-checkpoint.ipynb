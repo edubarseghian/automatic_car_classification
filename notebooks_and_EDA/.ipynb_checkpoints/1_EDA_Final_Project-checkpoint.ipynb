{
 "cells": [
  {
   "cell_type": "markdown",
   "id": "IREVpllBdcAc",
   "metadata": {
    "id": "IREVpllBdcAc"
   },
   "source": [
    "The car_distribution.csv was built through the script /home/edubarseghian/check_nof_files.py located at the AWS server."
   ]
  },
  {
   "cell_type": "code",
   "execution_count": null,
   "id": "6e108d93-29a1-474e-8b32-c666bb0a14ac",
   "metadata": {
    "colab": {
     "base_uri": "https://localhost:8080/",
     "height": 475
    },
    "executionInfo": {
     "elapsed": 1430,
     "status": "ok",
     "timestamp": 1671819210389,
     "user": {
      "displayName": "Eduardo Andres",
      "userId": "05872806371588886564"
     },
     "user_tz": 180
    },
    "id": "6e108d93-29a1-474e-8b32-c666bb0a14ac",
    "outputId": "94272838-9dab-4e41-b3b3-358c3bbf1060"
   },
   "outputs": [
    {
     "data": {
      "text/plain": [
       "Text(0.5, 1.0, 'Number of files per dataset subdirectory')"
      ]
     },
     "execution_count": 20,
     "metadata": {},
     "output_type": "execute_result"
    },
    {
     "data": {
      "image/png": "[encoded data removed]",
      "text/plain": [
       "<Figure size 864x504 with 1 Axes>"
      ]
     },
     "metadata": {
      "needs_background": "light"
     },
     "output_type": "display_data"
    }
   ],
   "source": [
    "plt.figure(figsize=(12,7))\n",
    "sns.histplot(data=df, x=\"total\", color=\"orange\", label=\"total files\")\n",
    "sns.histplot(data=df, x=\"cars\", color=\"blue\", label=\"only cars, after data wrangling.\")\n",
    "plt.legend()\n",
    "plt.title(\"Number of files per dataset subdirectory\")"
   ]
  },
  {
   "cell_type": "markdown",
   "id": "311b2a70-0f8c-4421-957b-c1f0f01381cd",
   "metadata": {
    "id": "311b2a70-0f8c-4421-957b-c1f0f01381cd"
   },
   "source": [
    "# First observations"
   ]
  },
  {
   "cell_type": "code",
   "execution_count": null,
   "id": "f1639861-8902-42f3-94c9-c7ea87c7b67c",
   "metadata": {
    "id": "f1639861-8902-42f3-94c9-c7ea87c7b67c",
    "outputId": "09154687-fcc2-43eb-8804-46c2a336919c"
   },
   "outputs": [
    {
     "name": "stdout",
     "output_type": "stream",
     "text": [
      "Initial number of folders: 6263\n",
      "\n",
      "Initial number of files: 1629152\n",
      "\n",
      "Number of cars after running the first classifier: 703904\n",
      ", which where 43.2% of all the images.\n",
      "\n",
      "Number of images with probability greater than 0.7 of being a car: 691421\n",
      ", which where 42.4% of all the images.\n",
      "\n"
     ]
    }
   ],
   "source": [
    "a=len(df)\n",
    "b=df.total.sum()\n",
    "c=df.cars.sum()\n",
    "d=df.cars_70.sum()\n",
    "\n",
    "print(f\"Initial number of folders: {a}\\n\")\n",
    "print(f\"Initial number of files: {b}\\n\")\n",
    "print(f\"Number of cars after running the first classifier: {c}\\n, which where {str(100*c/b)[:4]}% of all the images.\\n\")\n",
    "\n",
    "print(f\"Number of images with probability greater than 0.7 of being a car: {d}\\n, which where {str(100*d/b)[:4]}% of all the images.\\n\")\n"
   ]
  },
  {
   "cell_type": "markdown",
   "id": "QW32TcNWQeVs",
   "metadata": {
    "id": "QW32TcNWQeVs"
   },
   "source": [
    "### Now we create some auxiliary columns."
   ]
  },
  {
   "cell_type": "code",
   "execution_count": null,
   "id": "10e4f4c0-3218-42b0-bb0a-9d5512bd022f",
   "metadata": {
    "colab": {
     "base_uri": "https://localhost:8080/"
    },
    "executionInfo": {
     "elapsed": 18577,
     "status": "ok",
     "timestamp": 1671820875639,
     "user": {
      "displayName": "Eduardo Andres",
      "userId": "05872806371588886564"
     },
     "user_tz": 180
    },
    "id": "10e4f4c0-3218-42b0-bb0a-9d5512bd022f",
    "outputId": "82be07db-6c08-4e10-de6d-c4784b128108"
   },
   "outputs": [
    {
     "name": "stderr",
     "output_type": "stream",
     "text": [
      "<ipython-input-23-3a05a09d4274>:21: SettingWithCopyWarning: \n",
      "A value is trying to be set on a copy of a slice from a DataFrame.\n",
      "Try using .loc[row_indexer,col_indexer] = value instead\n",
      "\n",
      "See the caveats in the documentation: https://pandas.pydata.org/pandas-docs/stable/user_guide/indexing.html#returning-a-view-versus-a-copy\n",
      "  df[\"aux\"]=df.car_directory.apply(split_name_in_three)\n",
      "/usr/local/lib/python3.8/dist-packages/pandas/core/frame.py:3641: SettingWithCopyWarning: \n",
      "A value is trying to be set on a copy of a slice from a DataFrame.\n",
      "Try using .loc[row_indexer,col_indexer] = value instead\n",
      "\n",
      "See the caveats in the documentation: https://pandas.pydata.org/pandas-docs/stable/user_guide/indexing.html#returning-a-view-versus-a-copy\n",
      "  self[k1] = value[k2]\n"
     ]
    }
   ],
   "source": [
    "# drop empty folders and the ugly test_img\n",
    "df = df.loc[df.cars > 1]\n",
    "\n",
    "# create columns for manufacturer, model, year.\n",
    "def split_name_in_three(name):\n",
    "    \"\"\"\n",
    "    With the exception of the kia_pro_ceed_(year) cars, \n",
    "    each subdirectory name could be splitted just by the \"_\"\n",
    "    in 3 parts:\n",
    "        {manufacturer}_{model}_{year}\n",
    "\n",
    "    Here we do exactly that.\n",
    "    \"\"\"\n",
    "\n",
    "    if \"pro_ceed\" in name:\n",
    "        return name.replace(\"pro_ceed\", \"proceed\")\n",
    "    elif name==\"test_imgs\":\n",
    "        return \"test_imgs_0\"\n",
    "    else:\n",
    "        return name\n",
    "df[\"aux\"]=df.car_directory.apply(split_name_in_three)\n",
    "df[['brand', 'model', \"year\"]] = df['aux'].str.split('_', expand=True)\n",
    "df = df.drop(\"aux\", axis=1)\n",
    "\n",
    "# Check whether year column is ok, in that case transform to int\n",
    "df[\"year_is_num\"] = df[\"year\"].apply(lambda s: str(s).isnumeric())\n",
    "if len(df)==df.year_is_num.sum():\n",
    "    df = df.drop(\"year_is_num\", axis=1)\n",
    "    df.year = df.year.astype(int)\n",
    "\n",
    "# create column that joins brand and model\n",
    "def g(x,y):\n",
    "    return x+\"_\"+y\n",
    "df[\"brand_and_model\"] = df[[\"brand\", \"model\"]].apply(lambda s: g(*s), axis=1)\n",
    "\n",
    "\n",
    "# Distance between earliest and latest year\n",
    "def span_years(x):\n",
    "    df_aux = df.loc[df.brand_and_model==x].sort_values(\"year\")\n",
    "    return df_aux.year.max()+ 1 - df_aux.year.min()\n",
    "df[\"span_years\"] = df[\"brand_and_model\"].apply(span_years)\n",
    "\n",
    "\n",
    "# Check if we have discontinuities in the years of the car model\n",
    "def gap(x):\n",
    "    df_aux = df.loc[df.brand_and_model==x].sort_values(\"year\")\n",
    "    return df_aux.year.max()+ 1 - df_aux.year.min() - df_aux.year.nunique()\n",
    "df[\"gap\"] = df[\"brand_and_model\"].apply(gap)\n",
    "\n",
    "\n",
    "# Column that gives the total number of cars per each (brand, model) pair\n",
    "dicci = dict()\n",
    "for x in df.brand_and_model.unique():\n",
    "    dicci[x] = df.loc[df.brand_and_model==x].cars.sum()\n",
    "df[\"cars_brand_model\"] = df.brand_and_model.map(dicci)\n",
    "\n",
    "# Idem for cars with probability greater than 0.7\n",
    "dicci70 = dict()\n",
    "for x in df.brand_and_model.unique():\n",
    "    dicci70[x] = df.loc[df.brand_and_model==x].cars_70.sum()\n",
    "df[\"cars_brand_model_70\"] = df.brand_and_model.map(dicci70)"
   ]
  },
  {
   "cell_type": "code",
   "execution_count": null,
   "id": "GTG42MS6Si3w",
   "metadata": {
    "colab": {
     "base_uri": "https://localhost:8080/",
     "height": 206
    },
    "executionInfo": {
     "elapsed": 293,
     "status": "ok",
     "timestamp": 1671820887258,
     "user": {
      "displayName": "Eduardo Andres",
      "userId": "05872806371588886564"
     },
     "user_tz": 180
    },
    "id": "GTG42MS6Si3w",
    "outputId": "260dc5c5-e2cf-4bc9-89c2-ec500b2f7fed"
   },
   "outputs": [
    {
     "data": {
      "text/html": [
       "\n",
       "  <div id=\"df-d24c05ba-c595-4372-8759-062e403a9093\">\n",
       "    <div class=\"colab-df-container\">\n",
       "      <div>\n",
       "<style scoped>\n",
       "    .dataframe tbody tr th:only-of-type {\n",
       "        vertical-align: middle;\n",
       "    }\n",
       "\n",
       "    .dataframe tbody tr th {\n",
       "        vertical-align: top;\n",
       "    }\n",
       "\n",
       "    .dataframe thead th {\n",
       "        text-align: right;\n",
       "    }\n",
       "</style>\n",
       "<table border=\"1\" class=\"dataframe\">\n",
       "  <thead>\n",
       "    <tr style=\"text-align: right;\">\n",
       "      <th></th>\n",
       "      <th>car_directory</th>\n",
       "      <th>cars</th>\n",
       "      <th>total</th>\n",
       "      <th>cars_70</th>\n",
       "      <th>cars_90</th>\n",
       "      <th>brand</th>\n",
       "      <th>model</th>\n",
       "      <th>year</th>\n",
       "      <th>brand_and_model</th>\n",
       "      <th>span_years</th>\n",
       "      <th>gap</th>\n",
       "      <th>cars_brand_model</th>\n",
       "      <th>cars_brand_model_70</th>\n",
       "    </tr>\n",
       "  </thead>\n",
       "  <tbody>\n",
       "    <tr>\n",
       "      <th>0</th>\n",
       "      <td>peugeot_rcz_2010</td>\n",
       "      <td>138</td>\n",
       "      <td>241</td>\n",
       "      <td>136</td>\n",
       "      <td>134</td>\n",
       "      <td>peugeot</td>\n",
       "      <td>rcz</td>\n",
       "      <td>2010</td>\n",
       "      <td>peugeot_rcz</td>\n",
       "      <td>7</td>\n",
       "      <td>0</td>\n",
       "      <td>820</td>\n",
       "      <td>802</td>\n",
       "    </tr>\n",
       "    <tr>\n",
       "      <th>1</th>\n",
       "      <td>mercedes-benz_e-270_2003</td>\n",
       "      <td>76</td>\n",
       "      <td>124</td>\n",
       "      <td>76</td>\n",
       "      <td>73</td>\n",
       "      <td>mercedes-benz</td>\n",
       "      <td>e-270</td>\n",
       "      <td>2003</td>\n",
       "      <td>mercedes-benz_e-270</td>\n",
       "      <td>6</td>\n",
       "      <td>0</td>\n",
       "      <td>694</td>\n",
       "      <td>682</td>\n",
       "    </tr>\n",
       "    <tr>\n",
       "      <th>2</th>\n",
       "      <td>fiat_500l_2012</td>\n",
       "      <td>93</td>\n",
       "      <td>155</td>\n",
       "      <td>93</td>\n",
       "      <td>92</td>\n",
       "      <td>fiat</td>\n",
       "      <td>500l</td>\n",
       "      <td>2012</td>\n",
       "      <td>fiat_500l</td>\n",
       "      <td>7</td>\n",
       "      <td>0</td>\n",
       "      <td>990</td>\n",
       "      <td>982</td>\n",
       "    </tr>\n",
       "    <tr>\n",
       "      <th>3</th>\n",
       "      <td>mercedes-benz_e-500_2010</td>\n",
       "      <td>64</td>\n",
       "      <td>114</td>\n",
       "      <td>63</td>\n",
       "      <td>61</td>\n",
       "      <td>mercedes-benz</td>\n",
       "      <td>e-500</td>\n",
       "      <td>2010</td>\n",
       "      <td>mercedes-benz_e-500</td>\n",
       "      <td>13</td>\n",
       "      <td>6</td>\n",
       "      <td>716</td>\n",
       "      <td>704</td>\n",
       "    </tr>\n",
       "    <tr>\n",
       "      <th>4</th>\n",
       "      <td>seat_leon_2006</td>\n",
       "      <td>151</td>\n",
       "      <td>258</td>\n",
       "      <td>146</td>\n",
       "      <td>141</td>\n",
       "      <td>seat</td>\n",
       "      <td>leon</td>\n",
       "      <td>2006</td>\n",
       "      <td>seat_leon</td>\n",
       "      <td>18</td>\n",
       "      <td>0</td>\n",
       "      <td>2467</td>\n",
       "      <td>2426</td>\n",
       "    </tr>\n",
       "  </tbody>\n",
       "</table>\n",
       "</div>\n",
       "      <button class=\"colab-df-convert\" onclick=\"convertToInteractive('df-d24c05ba-c595-4372-8759-062e403a9093')\"\n",
       "              title=\"Convert this dataframe to an interactive table.\"\n",
       "              style=\"display:none;\">\n",
       "        \n",
       "  <svg xmlns=\"http://www.w3.org/2000/svg\" height=\"24px\"viewBox=\"0 0 24 24\"\n",
       "       width=\"24px\">\n",
       "    <path d=\"M0 0h24v24H0V0z\" fill=\"none\"/>\n",
       "    <path d=\"M18.56 5.44l.94 2.06.94-2.06 2.06-.94-2.06-.94-.94-2.06-.94 2.06-2.06.94zm-11 1L8.5 8.5l.94-2.06 2.06-.94-2.06-.94L8.5 2.5l-.94 2.06-2.06.94zm10 10l.94 2.06.94-2.06 2.06-.94-2.06-.94-.94-2.06-.94 2.06-2.06.94z\"/><path d=\"M17.41 7.96l-1.37-1.37c-.4-.4-.92-.59-1.43-.59-.52 0-1.04.2-1.43.59L10.3 9.45l-7.72 7.72c-.78.78-.78 2.05 0 2.83L4 21.41c.39.39.9.59 1.41.59.51 0 1.02-.2 1.41-.59l7.78-7.78 2.81-2.81c.8-.78.8-2.07 0-2.86zM5.41 20L4 18.59l7.72-7.72 1.47 1.35L5.41 20z\"/>\n",
       "  </svg>\n",
       "      </button>\n",
       "      \n",
       "  <style>\n",
       "    .colab-df-container {\n",
       "      display:flex;\n",
       "      flex-wrap:wrap;\n",
       "      gap: 12px;\n",
       "    }\n",
       "\n",
       "    .colab-df-convert {\n",
       "      background-color: #E8F0FE;\n",
       "      border: none;\n",
       "      border-radius: 50%;\n",
       "      cursor: pointer;\n",
       "      display: none;\n",
       "      fill: #1967D2;\n",
       "      height: 32px;\n",
       "      padding: 0 0 0 0;\n",
       "      width: 32px;\n",
       "    }\n",
       "\n",
       "    .colab-df-convert:hover {\n",
       "      background-color: #E2EBFA;\n",
       "      box-shadow: 0px 1px 2px rgba(60, 64, 67, 0.3), 0px 1px 3px 1px rgba(60, 64, 67, 0.15);\n",
       "      fill: #174EA6;\n",
       "    }\n",
       "\n",
       "    [theme=dark] .colab-df-convert {\n",
       "      background-color: #3B4455;\n",
       "      fill: #D2E3FC;\n",
       "    }\n",
       "\n",
       "    [theme=dark] .colab-df-convert:hover {\n",
       "      background-color: #434B5C;\n",
       "      box-shadow: 0px 1px 3px 1px rgba(0, 0, 0, 0.15);\n",
       "      filter: drop-shadow(0px 1px 2px rgba(0, 0, 0, 0.3));\n",
       "      fill: #FFFFFF;\n",
       "    }\n",
       "  </style>\n",
       "\n",
       "      <script>\n",
       "        const buttonEl =\n",
       "          document.querySelector('#df-d24c05ba-c595-4372-8759-062e403a9093 button.colab-df-convert');\n",
       "        buttonEl.style.display =\n",
       "          google.colab.kernel.accessAllowed ? 'block' : 'none';\n",
       "\n",
       "        async function convertToInteractive(key) {\n",
       "          const element = document.querySelector('#df-d24c05ba-c595-4372-8759-062e403a9093');\n",
       "          const dataTable =\n",
       "            await google.colab.kernel.invokeFunction('convertToInteractive',\n",
       "                                                     [key], {});\n",
       "          if (!dataTable) return;\n",
       "\n",
       "          const docLinkHtml = 'Like what you see? Visit the ' +\n",
       "            '<a target=\"_blank\" href=https://colab.research.google.com/notebooks/data_table.ipynb>data table notebook</a>'\n",
       "            + ' to learn more about interactive tables.';\n",
       "          element.innerHTML = '';\n",
       "          dataTable['output_type'] = 'display_data';\n",
       "          await google.colab.output.renderOutput(dataTable, element);\n",
       "          const docLink = document.createElement('div');\n",
       "          docLink.innerHTML = docLinkHtml;\n",
       "          element.appendChild(docLink);\n",
       "        }\n",
       "      </script>\n",
       "    </div>\n",
       "  </div>\n",
       "  "
      ],
      "text/plain": [
       "              car_directory  cars  total  cars_70  cars_90          brand  \\\n",
       "0          peugeot_rcz_2010   138    241      136      134        peugeot   \n",
       "1  mercedes-benz_e-270_2003    76    124       76       73  mercedes-benz   \n",
       "2            fiat_500l_2012    93    155       93       92           fiat   \n",
       "3  mercedes-benz_e-500_2010    64    114       63       61  mercedes-benz   \n",
       "4            seat_leon_2006   151    258      146      141           seat   \n",
       "\n",
       "   model  year      brand_and_model  span_years  gap  cars_brand_model  \\\n",
       "0    rcz  2010          peugeot_rcz           7    0               820   \n",
       "1  e-270  2003  mercedes-benz_e-270           6    0               694   \n",
       "2   500l  2012            fiat_500l           7    0               990   \n",
       "3  e-500  2010  mercedes-benz_e-500          13    6               716   \n",
       "4   leon  2006            seat_leon          18    0              2467   \n",
       "\n",
       "   cars_brand_model_70  \n",
       "0                  802  \n",
       "1                  682  \n",
       "2                  982  \n",
       "3                  704  \n",
       "4                 2426  "
      ]
     },
     "execution_count": 24,
     "metadata": {},
     "output_type": "execute_result"
    }
   ],
   "source": [
    "df.head()"
   ]
  },
  {
   "cell_type": "code",
   "execution_count": null,
   "id": "af3419a8-cdab-4043-9c6f-ae7e58d60f1f",
   "metadata": {
    "id": "af3419a8-cdab-4043-9c6f-ae7e58d60f1f"
   },
   "outputs": [],
   "source": [
    "#df.to_csv(path+\"car_distrib_extended.csv\", index=False)\n",
    "#df= pd.read_csv(path+\"car_distrib_extended.csv\")"
   ]
  },
  {
   "cell_type": "markdown",
   "id": "63e50ddd-c098-486c-8f11-159a7262184b",
   "metadata": {
    "id": "63e50ddd-c098-486c-8f11-159a7262184b"
   },
   "source": [
    "# Follow through"
   ]
  },
  {
   "cell_type": "markdown",
   "id": "3f934015-56cf-440c-9da6-6f88bd901668",
   "metadata": {
    "id": "3f934015-56cf-440c-9da6-6f88bd901668"
   },
   "source": [
    "### 836 diferent car models from 57 brands."
   ]
  },
  {
   "cell_type": "code",
   "execution_count": null,
   "id": "318fcbe9-3c82-457d-88b3-e6bfbc680322",
   "metadata": {
    "id": "318fcbe9-3c82-457d-88b3-e6bfbc680322",
    "outputId": "a80b57e4-cbd9-40b5-d6f1-d7d6fe037d82"
   },
   "outputs": [
    {
     "data": {
      "text/plain": [
       "(836, 57)"
      ]
     },
     "execution_count": 84,
     "metadata": {},
     "output_type": "execute_result"
    }
   ],
   "source": [
    "df.brand_and_model.nunique(), df.brand.nunique()"
   ]
  },
  {
   "cell_type": "code",
   "execution_count": null,
   "id": "dd028819-5869-4555-8ab3-5049a9355ae0",
   "metadata": {
    "colab": {
     "base_uri": "https://localhost:8080/",
     "height": 206
    },
    "executionInfo": {
     "elapsed": 7,
     "status": "ok",
     "timestamp": 1671820941900,
     "user": {
      "displayName": "Eduardo Andres",
      "userId": "05872806371588886564"
     },
     "user_tz": 180
    },
    "id": "dd028819-5869-4555-8ab3-5049a9355ae0",
    "outputId": "5a210eec-27c1-4f05-dfd2-994604c6945d"
   },
   "outputs": [
    {
     "data": {
      "text/html": [
       "\n",
       "  <div id=\"df-ce30ff87-9ddf-48c4-91a5-5dc860cc5121\">\n",
       "    <div class=\"colab-df-container\">\n",
       "      <div>\n",
       "<style scoped>\n",
       "    .dataframe tbody tr th:only-of-type {\n",
       "        vertical-align: middle;\n",
       "    }\n",
       "\n",
       "    .dataframe tbody tr th {\n",
       "        vertical-align: top;\n",
       "    }\n",
       "\n",
       "    .dataframe thead th {\n",
       "        text-align: right;\n",
       "    }\n",
       "</style>\n",
       "<table border=\"1\" class=\"dataframe\">\n",
       "  <thead>\n",
       "    <tr style=\"text-align: right;\">\n",
       "      <th></th>\n",
       "      <th>car_model</th>\n",
       "      <th>count_</th>\n",
       "    </tr>\n",
       "  </thead>\n",
       "  <tbody>\n",
       "    <tr>\n",
       "      <th>0</th>\n",
       "      <td>peugeot_rcz</td>\n",
       "      <td>802</td>\n",
       "    </tr>\n",
       "    <tr>\n",
       "      <th>1</th>\n",
       "      <td>mercedes-benz_e-270</td>\n",
       "      <td>682</td>\n",
       "    </tr>\n",
       "    <tr>\n",
       "      <th>2</th>\n",
       "      <td>fiat_500l</td>\n",
       "      <td>982</td>\n",
       "    </tr>\n",
       "    <tr>\n",
       "      <th>3</th>\n",
       "      <td>mercedes-benz_e-500</td>\n",
       "      <td>704</td>\n",
       "    </tr>\n",
       "    <tr>\n",
       "      <th>4</th>\n",
       "      <td>seat_leon</td>\n",
       "      <td>2426</td>\n",
       "    </tr>\n",
       "  </tbody>\n",
       "</table>\n",
       "</div>\n",
       "      <button class=\"colab-df-convert\" onclick=\"convertToInteractive('df-ce30ff87-9ddf-48c4-91a5-5dc860cc5121')\"\n",
       "              title=\"Convert this dataframe to an interactive table.\"\n",
       "              style=\"display:none;\">\n",
       "        \n",
       "  <svg xmlns=\"http://www.w3.org/2000/svg\" height=\"24px\"viewBox=\"0 0 24 24\"\n",
       "       width=\"24px\">\n",
       "    <path d=\"M0 0h24v24H0V0z\" fill=\"none\"/>\n",
       "    <path d=\"M18.56 5.44l.94 2.06.94-2.06 2.06-.94-2.06-.94-.94-2.06-.94 2.06-2.06.94zm-11 1L8.5 8.5l.94-2.06 2.06-.94-2.06-.94L8.5 2.5l-.94 2.06-2.06.94zm10 10l.94 2.06.94-2.06 2.06-.94-2.06-.94-.94-2.06-.94 2.06-2.06.94z\"/><path d=\"M17.41 7.96l-1.37-1.37c-.4-.4-.92-.59-1.43-.59-.52 0-1.04.2-1.43.59L10.3 9.45l-7.72 7.72c-.78.78-.78 2.05 0 2.83L4 21.41c.39.39.9.59 1.41.59.51 0 1.02-.2 1.41-.59l7.78-7.78 2.81-2.81c.8-.78.8-2.07 0-2.86zM5.41 20L4 18.59l7.72-7.72 1.47 1.35L5.41 20z\"/>\n",
       "  </svg>\n",
       "      </button>\n",
       "      \n",
       "  <style>\n",
       "    .colab-df-container {\n",
       "      display:flex;\n",
       "      flex-wrap:wrap;\n",
       "      gap: 12px;\n",
       "    }\n",
       "\n",
       "    .colab-df-convert {\n",
       "      background-color: #E8F0FE;\n",
       "      border: none;\n",
       "      border-radius: 50%;\n",
       "      cursor: pointer;\n",
       "      display: none;\n",
       "      fill: #1967D2;\n",
       "      height: 32px;\n",
       "      padding: 0 0 0 0;\n",
       "      width: 32px;\n",
       "    }\n",
       "\n",
       "    .colab-df-convert:hover {\n",
       "      background-color: #E2EBFA;\n",
       "      box-shadow: 0px 1px 2px rgba(60, 64, 67, 0.3), 0px 1px 3px 1px rgba(60, 64, 67, 0.15);\n",
       "      fill: #174EA6;\n",
       "    }\n",
       "\n",
       "    [theme=dark] .colab-df-convert {\n",
       "      background-color: #3B4455;\n",
       "      fill: #D2E3FC;\n",
       "    }\n",
       "\n",
       "    [theme=dark] .colab-df-convert:hover {\n",
       "      background-color: #434B5C;\n",
       "      box-shadow: 0px 1px 3px 1px rgba(0, 0, 0, 0.15);\n",
       "      filter: drop-shadow(0px 1px 2px rgba(0, 0, 0, 0.3));\n",
       "      fill: #FFFFFF;\n",
       "    }\n",
       "  </style>\n",
       "\n",
       "      <script>\n",
       "        const buttonEl =\n",
       "          document.querySelector('#df-ce30ff87-9ddf-48c4-91a5-5dc860cc5121 button.colab-df-convert');\n",
       "        buttonEl.style.display =\n",
       "          google.colab.kernel.accessAllowed ? 'block' : 'none';\n",
       "\n",
       "        async function convertToInteractive(key) {\n",
       "          const element = document.querySelector('#df-ce30ff87-9ddf-48c4-91a5-5dc860cc5121');\n",
       "          const dataTable =\n",
       "            await google.colab.kernel.invokeFunction('convertToInteractive',\n",
       "                                                     [key], {});\n",
       "          if (!dataTable) return;\n",
       "\n",
       "          const docLinkHtml = 'Like what you see? Visit the ' +\n",
       "            '<a target=\"_blank\" href=https://colab.research.google.com/notebooks/data_table.ipynb>data table notebook</a>'\n",
       "            + ' to learn more about interactive tables.';\n",
       "          element.innerHTML = '';\n",
       "          dataTable['output_type'] = 'display_data';\n",
       "          await google.colab.output.renderOutput(dataTable, element);\n",
       "          const docLink = document.createElement('div');\n",
       "          docLink.innerHTML = docLinkHtml;\n",
       "          element.appendChild(docLink);\n",
       "        }\n",
       "      </script>\n",
       "    </div>\n",
       "  </div>\n",
       "  "
      ],
      "text/plain": [
       "             car_model  count_\n",
       "0          peugeot_rcz     802\n",
       "1  mercedes-benz_e-270     682\n",
       "2            fiat_500l     982\n",
       "3  mercedes-benz_e-500     704\n",
       "4            seat_leon    2426"
      ]
     },
     "execution_count": 25,
     "metadata": {},
     "output_type": "execute_result"
    }
   ],
   "source": [
    "df_car_model = pd.DataFrame()\n",
    "df_car_model[\"car_model\"] = dicci70.keys()\n",
    "df_car_model[\"count_\"] = dicci70.values()\n",
    "\n",
    "df_car_model.head()"
   ]
  },
  {
   "cell_type": "code",
   "execution_count": null,
   "id": "wVMb7aWKTTWd",
   "metadata": {
    "colab": {
     "base_uri": "https://localhost:8080/",
     "height": 494
    },
    "executionInfo": {
     "elapsed": 902,
     "status": "ok",
     "timestamp": 1671821132420,
     "user": {
      "displayName": "Eduardo Andres",
      "userId": "05872806371588886564"
     },
     "user_tz": 180
    },
    "id": "wVMb7aWKTTWd",
    "outputId": "6933bdca-ea13-4267-99dd-c489ba65cb4e"
   },
   "outputs": [
    {
     "name": "stderr",
     "output_type": "stream",
     "text": [
      "WARNING:matplotlib.legend:No handles with labels found to put in legend.\n"
     ]
    },
    {
     "data": {
      "text/plain": [
       "Text(0.5, 1.0, 'Histogram of number of files per car model')"
      ]
     },
     "execution_count": 28,
     "metadata": {},
     "output_type": "execute_result"
    },
    {
     "data": {
      "image/png": "[encoded data removed]",
      "text/plain": [
       "<Figure size 864x504 with 1 Axes>"
      ]
     },
     "metadata": {
      "needs_background": "light"
     },
     "output_type": "display_data"
    }
   ],
   "source": [
    "plt.figure(figsize=(12,7))\n",
    "sns.histplot(data=df_car_model.loc[df_car_model[\"count_\"] > 150], \n",
    "             x=\"count_\", \n",
    "             bins =  (1+(df_car_model.count_.max()-150))//100 )\n",
    "plt.legend()\n",
    "plt.title(\"Histogram of number of files per car model\")"
   ]
  },
  {
   "cell_type": "markdown",
   "id": "4a222e4c-2d56-4f14-8ede-221000f24044",
   "metadata": {
    "id": "4a222e4c-2d56-4f14-8ede-221000f24044"
   },
   "source": [
    "## Breakdown by manufacturer"
   ]
  },
  {
   "cell_type": "code",
   "execution_count": null,
   "id": "d4342d66-4525-44ba-aec5-160838676e01",
   "metadata": {
    "colab": {
     "base_uri": "https://localhost:8080/",
     "height": 363
    },
    "executionInfo": {
     "elapsed": 290,
     "status": "ok",
     "timestamp": 1671821164014,
     "user": {
      "displayName": "Eduardo Andres",
      "userId": "05872806371588886564"
     },
     "user_tz": 180
    },
    "id": "d4342d66-4525-44ba-aec5-160838676e01",
    "outputId": "cde3cea2-bc22-4673-b154-a28d50ea933b"
   },
   "outputs": [
    {
     "data": {
      "text/html": [
       "\n",
       "  <div id=\"df-c020093f-6267-4340-8784-ae2de0f5ce93\">\n",
       "    <div class=\"colab-df-container\">\n",
       "      <div>\n",
       "<style scoped>\n",
       "    .dataframe tbody tr th:only-of-type {\n",
       "        vertical-align: middle;\n",
       "    }\n",
       "\n",
       "    .dataframe tbody tr th {\n",
       "        vertical-align: top;\n",
       "    }\n",
       "\n",
       "    .dataframe thead th {\n",
       "        text-align: right;\n",
       "    }\n",
       "</style>\n",
       "<table border=\"1\" class=\"dataframe\">\n",
       "  <thead>\n",
       "    <tr style=\"text-align: right;\">\n",
       "      <th></th>\n",
       "      <th>Brand</th>\n",
       "      <th>unique_models</th>\n",
       "      <th>all_models</th>\n",
       "      <th>total_cars</th>\n",
       "    </tr>\n",
       "  </thead>\n",
       "  <tbody>\n",
       "    <tr>\n",
       "      <th>0</th>\n",
       "      <td>mercedes-benz</td>\n",
       "      <td>151</td>\n",
       "      <td>897</td>\n",
       "      <td>98309</td>\n",
       "    </tr>\n",
       "    <tr>\n",
       "      <th>1</th>\n",
       "      <td>bmw</td>\n",
       "      <td>75</td>\n",
       "      <td>561</td>\n",
       "      <td>62652</td>\n",
       "    </tr>\n",
       "    <tr>\n",
       "      <th>2</th>\n",
       "      <td>volkswagen</td>\n",
       "      <td>52</td>\n",
       "      <td>503</td>\n",
       "      <td>54612</td>\n",
       "    </tr>\n",
       "    <tr>\n",
       "      <th>3</th>\n",
       "      <td>audi</td>\n",
       "      <td>34</td>\n",
       "      <td>327</td>\n",
       "      <td>34251</td>\n",
       "    </tr>\n",
       "    <tr>\n",
       "      <th>4</th>\n",
       "      <td>fiat</td>\n",
       "      <td>30</td>\n",
       "      <td>260</td>\n",
       "      <td>32148</td>\n",
       "    </tr>\n",
       "    <tr>\n",
       "      <th>5</th>\n",
       "      <td>ford</td>\n",
       "      <td>29</td>\n",
       "      <td>257</td>\n",
       "      <td>29550</td>\n",
       "    </tr>\n",
       "    <tr>\n",
       "      <th>6</th>\n",
       "      <td>citroen</td>\n",
       "      <td>29</td>\n",
       "      <td>243</td>\n",
       "      <td>28762</td>\n",
       "    </tr>\n",
       "    <tr>\n",
       "      <th>7</th>\n",
       "      <td>renault</td>\n",
       "      <td>27</td>\n",
       "      <td>248</td>\n",
       "      <td>28726</td>\n",
       "    </tr>\n",
       "    <tr>\n",
       "      <th>8</th>\n",
       "      <td>mini</td>\n",
       "      <td>31</td>\n",
       "      <td>244</td>\n",
       "      <td>28013</td>\n",
       "    </tr>\n",
       "    <tr>\n",
       "      <th>9</th>\n",
       "      <td>opel</td>\n",
       "      <td>24</td>\n",
       "      <td>219</td>\n",
       "      <td>26295</td>\n",
       "    </tr>\n",
       "  </tbody>\n",
       "</table>\n",
       "</div>\n",
       "      <button class=\"colab-df-convert\" onclick=\"convertToInteractive('df-c020093f-6267-4340-8784-ae2de0f5ce93')\"\n",
       "              title=\"Convert this dataframe to an interactive table.\"\n",
       "              style=\"display:none;\">\n",
       "        \n",
       "  <svg xmlns=\"http://www.w3.org/2000/svg\" height=\"24px\"viewBox=\"0 0 24 24\"\n",
       "       width=\"24px\">\n",
       "    <path d=\"M0 0h24v24H0V0z\" fill=\"none\"/>\n",
       "    <path d=\"M18.56 5.44l.94 2.06.94-2.06 2.06-.94-2.06-.94-.94-2.06-.94 2.06-2.06.94zm-11 1L8.5 8.5l.94-2.06 2.06-.94-2.06-.94L8.5 2.5l-.94 2.06-2.06.94zm10 10l.94 2.06.94-2.06 2.06-.94-2.06-.94-.94-2.06-.94 2.06-2.06.94z\"/><path d=\"M17.41 7.96l-1.37-1.37c-.4-.4-.92-.59-1.43-.59-.52 0-1.04.2-1.43.59L10.3 9.45l-7.72 7.72c-.78.78-.78 2.05 0 2.83L4 21.41c.39.39.9.59 1.41.59.51 0 1.02-.2 1.41-.59l7.78-7.78 2.81-2.81c.8-.78.8-2.07 0-2.86zM5.41 20L4 18.59l7.72-7.72 1.47 1.35L5.41 20z\"/>\n",
       "  </svg>\n",
       "      </button>\n",
       "      \n",
       "  <style>\n",
       "    .colab-df-container {\n",
       "      display:flex;\n",
       "      flex-wrap:wrap;\n",
       "      gap: 12px;\n",
       "    }\n",
       "\n",
       "    .colab-df-convert {\n",
       "      background-color: #E8F0FE;\n",
       "      border: none;\n",
       "      border-radius: 50%;\n",
       "      cursor: pointer;\n",
       "      display: none;\n",
       "      fill: #1967D2;\n",
       "      height: 32px;\n",
       "      padding: 0 0 0 0;\n",
       "      width: 32px;\n",
       "    }\n",
       "\n",
       "    .colab-df-convert:hover {\n",
       "      background-color: #E2EBFA;\n",
       "      box-shadow: 0px 1px 2px rgba(60, 64, 67, 0.3), 0px 1px 3px 1px rgba(60, 64, 67, 0.15);\n",
       "      fill: #174EA6;\n",
       "    }\n",
       "\n",
       "    [theme=dark] .colab-df-convert {\n",
       "      background-color: #3B4455;\n",
       "      fill: #D2E3FC;\n",
       "    }\n",
       "\n",
       "    [theme=dark] .colab-df-convert:hover {\n",
       "      background-color: #434B5C;\n",
       "      box-shadow: 0px 1px 3px 1px rgba(0, 0, 0, 0.15);\n",
       "      filter: drop-shadow(0px 1px 2px rgba(0, 0, 0, 0.3));\n",
       "      fill: #FFFFFF;\n",
       "    }\n",
       "  </style>\n",
       "\n",
       "      <script>\n",
       "        const buttonEl =\n",
       "          document.querySelector('#df-c020093f-6267-4340-8784-ae2de0f5ce93 button.colab-df-convert');\n",
       "        buttonEl.style.display =\n",
       "          google.colab.kernel.accessAllowed ? 'block' : 'none';\n",
       "\n",
       "        async function convertToInteractive(key) {\n",
       "          const element = document.querySelector('#df-c020093f-6267-4340-8784-ae2de0f5ce93');\n",
       "          const dataTable =\n",
       "            await google.colab.kernel.invokeFunction('convertToInteractive',\n",
       "                                                     [key], {});\n",
       "          if (!dataTable) return;\n",
       "\n",
       "          const docLinkHtml = 'Like what you see? Visit the ' +\n",
       "            '<a target=\"_blank\" href=https://colab.research.google.com/notebooks/data_table.ipynb>data table notebook</a>'\n",
       "            + ' to learn more about interactive tables.';\n",
       "          element.innerHTML = '';\n",
       "          dataTable['output_type'] = 'display_data';\n",
       "          await google.colab.output.renderOutput(dataTable, element);\n",
       "          const docLink = document.createElement('div');\n",
       "          docLink.innerHTML = docLinkHtml;\n",
       "          element.appendChild(docLink);\n",
       "        }\n",
       "      </script>\n",
       "    </div>\n",
       "  </div>\n",
       "  "
      ],
      "text/plain": [
       "           Brand unique_models all_models total_cars\n",
       "0  mercedes-benz           151        897      98309\n",
       "1            bmw            75        561      62652\n",
       "2     volkswagen            52        503      54612\n",
       "3           audi            34        327      34251\n",
       "4           fiat            30        260      32148\n",
       "5           ford            29        257      29550\n",
       "6        citroen            29        243      28762\n",
       "7        renault            27        248      28726\n",
       "8           mini            31        244      28013\n",
       "9           opel            24        219      26295"
      ]
     },
     "execution_count": 29,
     "metadata": {},
     "output_type": "execute_result"
    }
   ],
   "source": [
    "df2 = pd.DataFrame(columns = [\"Brand\",\"unique_models\",\"all_models\",\"total_cars\"])\n",
    "for brand in df.brand.unique():\n",
    "    df_aux = df.loc[df.brand == brand]\n",
    "    df2 = df2.append({\"Brand\": brand,\n",
    "                      \"unique_models\":df_aux.model.nunique(),\n",
    "                      \"all_models\": len(df_aux),\n",
    "                      \"total_cars\": df_aux.cars.sum()\n",
    "                     }, ignore_index=True)\n",
    "\n",
    "df2 = df2.sort_values(\"total_cars\", ascending=False)\n",
    "df2=df2.reset_index()\n",
    "df2[:10][[\"Brand\",\"unique_models\",\"all_models\",\"total_cars\"]]#.reset_index()"
   ]
  },
  {
   "cell_type": "markdown",
   "id": "f9848b03-2b25-4074-9ec4-3a462b0d8444",
   "metadata": {
    "id": "f9848b03-2b25-4074-9ec4-3a462b0d8444"
   },
   "source": [
    "### The cars are from 2001 to 2018"
   ]
  },
  {
   "cell_type": "code",
   "execution_count": null,
   "id": "154c8518-0305-4177-a300-cb62306c803e",
   "metadata": {
    "id": "154c8518-0305-4177-a300-cb62306c803e",
    "outputId": "3d36c203-7a79-480e-a8ff-72db99ca8451"
   },
   "outputs": [
    {
     "data": {
      "text/plain": [
       "(2001, 2018)"
      ]
     },
     "execution_count": 85,
     "metadata": {},
     "output_type": "execute_result"
    }
   ],
   "source": [
    "x = list(df.year.unique())\n",
    "x.remove(0)\n",
    "min(x), max(x)"
   ]
  },
  {
   "cell_type": "markdown",
   "id": "653686b1-8b1a-44d1-8514-4657c306e3b9",
   "metadata": {
    "id": "653686b1-8b1a-44d1-8514-4657c306e3b9"
   },
   "source": [
    "### The following car models span over the entire period."
   ]
  },
  {
   "cell_type": "code",
   "execution_count": null,
   "id": "9a83a524-7f40-417e-a500-aeee302fab65",
   "metadata": {
    "id": "9a83a524-7f40-417e-a500-aeee302fab65",
    "outputId": "f10bd43d-4c3d-4787-f0b9-69ef53004b5b"
   },
   "outputs": [
    {
     "data": {
      "text/plain": [
       "['audi_a3',\n",
       " 'audi_a4',\n",
       " 'audi_a6',\n",
       " 'audi_a6-allroad',\n",
       " 'audi_a8',\n",
       " 'audi_s3',\n",
       " 'audi_s6',\n",
       " 'audi_tt',\n",
       " 'bmw_316',\n",
       " 'bmw_318',\n",
       " 'bmw_320',\n",
       " 'bmw_330',\n",
       " 'bmw_520',\n",
       " 'bmw_525',\n",
       " 'bmw_530',\n",
       " 'bmw_m3',\n",
       " 'bmw_x5',\n",
       " 'citroen_berlingo',\n",
       " 'citroen_c5',\n",
       " 'fiat_doblo',\n",
       " 'fiat_ducato',\n",
       " 'fiat_panda',\n",
       " 'fiat_punto',\n",
       " 'ford_fiesta',\n",
       " 'ford_focus',\n",
       " 'ford_galaxy',\n",
       " 'ford_mondeo',\n",
       " 'ford_transit',\n",
       " 'honda_civic',\n",
       " 'honda_cr-v',\n",
       " 'iveco_daily',\n",
       " 'jeep_cherokee',\n",
       " 'jeep_grand-cherokee',\n",
       " 'jeep_wrangler',\n",
       " 'kia_sportage',\n",
       " 'land-rover_discovery',\n",
       " 'land-rover_range-rover',\n",
       " 'mazda_mx-5',\n",
       " 'mercedes-benz_200',\n",
       " 'mercedes-benz_a-160',\n",
       " 'mercedes-benz_c-180',\n",
       " 'mercedes-benz_c-200',\n",
       " 'mercedes-benz_c-220',\n",
       " 'mercedes-benz_e-200',\n",
       " 'mercedes-benz_e-220',\n",
       " 'mercedes-benz_s-500',\n",
       " 'mercedes-benz_sprinter',\n",
       " 'mercedes-benz_v-220',\n",
       " 'mercedes-benz_vito',\n",
       " 'mini_cooper',\n",
       " 'mini_one',\n",
       " 'mitsubishi_l200',\n",
       " 'mitsubishi_pajero',\n",
       " 'mitsubishi_space-star',\n",
       " 'nissan_micra',\n",
       " 'opel_astra',\n",
       " 'opel_corsa',\n",
       " 'opel_zafira',\n",
       " 'peugeot_partner',\n",
       " 'porsche_911',\n",
       " 'porsche_boxster',\n",
       " 'renault_clio',\n",
       " 'renault_espace',\n",
       " 'renault_kangoo',\n",
       " 'renault_master',\n",
       " 'renault_megane',\n",
       " 'renault_scenic',\n",
       " 'renault_twingo',\n",
       " 'seat_alhambra',\n",
       " 'seat_ibiza',\n",
       " 'seat_leon',\n",
       " 'seat_toledo',\n",
       " 'skoda_fabia',\n",
       " 'skoda_octavia',\n",
       " 'smart_fortwo',\n",
       " 'subaru_impreza',\n",
       " 'suzuki_ignis',\n",
       " 'suzuki_jimny',\n",
       " 'suzuki_swift',\n",
       " 'volkswagen_beetle',\n",
       " 'volkswagen_caddy',\n",
       " 'volkswagen_golf',\n",
       " 'volkswagen_golf-gti',\n",
       " 'volkswagen_golf-variant',\n",
       " 'volkswagen_others',\n",
       " 'volkswagen_passat',\n",
       " 'volkswagen_passat-variant',\n",
       " 'volkswagen_polo',\n",
       " 'volkswagen_sharan',\n",
       " 'volkswagen_transporter']"
      ]
     },
     "execution_count": 221,
     "metadata": {},
     "output_type": "execute_result"
    }
   ],
   "source": [
    "sorted(list(df.loc[df.span_years==18].brand_and_model.unique()))"
   ]
  },
  {
   "cell_type": "markdown",
   "id": "pMBoweK6UFay",
   "metadata": {
    "id": "pMBoweK6UFay"
   },
   "source": [
    "### Some car models have discontinuities in their releases.\n",
    "\n",
    "#### Even up to 12 years."
   ]
  },
  {
   "cell_type": "code",
   "execution_count": null,
   "id": "f8881f3e-403e-470c-bf59-e94e43162a12",
   "metadata": {
    "colab": {
     "base_uri": "https://localhost:8080/",
     "height": 394
    },
    "executionInfo": {
     "elapsed": 287,
     "status": "ok",
     "timestamp": 1671821381776,
     "user": {
      "displayName": "Eduardo Andres",
      "userId": "05872806371588886564"
     },
     "user_tz": 180
    },
    "id": "f8881f3e-403e-470c-bf59-e94e43162a12",
    "outputId": "7ddcd438-21d9-4e3b-943e-1f5dca0e1b5d"
   },
   "outputs": [
    {
     "data": {
      "text/html": [
       "\n",
       "  <div id=\"df-7b80a390-18db-4e1b-a4fa-403864f1f5c1\">\n",
       "    <div class=\"colab-df-container\">\n",
       "      <div>\n",
       "<style scoped>\n",
       "    .dataframe tbody tr th:only-of-type {\n",
       "        vertical-align: middle;\n",
       "    }\n",
       "\n",
       "    .dataframe tbody tr th {\n",
       "        vertical-align: top;\n",
       "    }\n",
       "\n",
       "    .dataframe thead th {\n",
       "        text-align: right;\n",
       "    }\n",
       "</style>\n",
       "<table border=\"1\" class=\"dataframe\">\n",
       "  <thead>\n",
       "    <tr style=\"text-align: right;\">\n",
       "      <th></th>\n",
       "      <th>car_directory</th>\n",
       "      <th>cars</th>\n",
       "      <th>total</th>\n",
       "      <th>cars_70</th>\n",
       "      <th>cars_90</th>\n",
       "      <th>brand</th>\n",
       "      <th>model</th>\n",
       "      <th>year</th>\n",
       "      <th>brand_and_model</th>\n",
       "      <th>span_years</th>\n",
       "      <th>gap</th>\n",
       "      <th>cars_brand_model</th>\n",
       "      <th>cars_brand_model_70</th>\n",
       "    </tr>\n",
       "  </thead>\n",
       "  <tbody>\n",
       "    <tr>\n",
       "      <th>2206</th>\n",
       "      <td>honda_hr-v_2001</td>\n",
       "      <td>77</td>\n",
       "      <td>223</td>\n",
       "      <td>76</td>\n",
       "      <td>76</td>\n",
       "      <td>honda</td>\n",
       "      <td>hr-v</td>\n",
       "      <td>2001</td>\n",
       "      <td>honda_hr-v</td>\n",
       "      <td>17</td>\n",
       "      <td>12</td>\n",
       "      <td>402</td>\n",
       "      <td>398</td>\n",
       "    </tr>\n",
       "    <tr>\n",
       "      <th>2539</th>\n",
       "      <td>honda_hr-v_2002</td>\n",
       "      <td>96</td>\n",
       "      <td>206</td>\n",
       "      <td>95</td>\n",
       "      <td>95</td>\n",
       "      <td>honda</td>\n",
       "      <td>hr-v</td>\n",
       "      <td>2002</td>\n",
       "      <td>honda_hr-v</td>\n",
       "      <td>17</td>\n",
       "      <td>12</td>\n",
       "      <td>402</td>\n",
       "      <td>398</td>\n",
       "    </tr>\n",
       "    <tr>\n",
       "      <th>4752</th>\n",
       "      <td>honda_hr-v_2003</td>\n",
       "      <td>81</td>\n",
       "      <td>171</td>\n",
       "      <td>81</td>\n",
       "      <td>80</td>\n",
       "      <td>honda</td>\n",
       "      <td>hr-v</td>\n",
       "      <td>2003</td>\n",
       "      <td>honda_hr-v</td>\n",
       "      <td>17</td>\n",
       "      <td>12</td>\n",
       "      <td>402</td>\n",
       "      <td>398</td>\n",
       "    </tr>\n",
       "    <tr>\n",
       "      <th>3096</th>\n",
       "      <td>honda_hr-v_2016</td>\n",
       "      <td>102</td>\n",
       "      <td>260</td>\n",
       "      <td>102</td>\n",
       "      <td>102</td>\n",
       "      <td>honda</td>\n",
       "      <td>hr-v</td>\n",
       "      <td>2016</td>\n",
       "      <td>honda_hr-v</td>\n",
       "      <td>17</td>\n",
       "      <td>12</td>\n",
       "      <td>402</td>\n",
       "      <td>398</td>\n",
       "    </tr>\n",
       "    <tr>\n",
       "      <th>4641</th>\n",
       "      <td>honda_hr-v_2017</td>\n",
       "      <td>46</td>\n",
       "      <td>104</td>\n",
       "      <td>44</td>\n",
       "      <td>42</td>\n",
       "      <td>honda</td>\n",
       "      <td>hr-v</td>\n",
       "      <td>2017</td>\n",
       "      <td>honda_hr-v</td>\n",
       "      <td>17</td>\n",
       "      <td>12</td>\n",
       "      <td>402</td>\n",
       "      <td>398</td>\n",
       "    </tr>\n",
       "    <tr>\n",
       "      <th>1574</th>\n",
       "      <td>mercedes-benz_v-220_2001</td>\n",
       "      <td>60</td>\n",
       "      <td>134</td>\n",
       "      <td>60</td>\n",
       "      <td>55</td>\n",
       "      <td>mercedes-benz</td>\n",
       "      <td>v-220</td>\n",
       "      <td>2001</td>\n",
       "      <td>mercedes-benz_v-220</td>\n",
       "      <td>18</td>\n",
       "      <td>12</td>\n",
       "      <td>524</td>\n",
       "      <td>516</td>\n",
       "    </tr>\n",
       "    <tr>\n",
       "      <th>947</th>\n",
       "      <td>mercedes-benz_v-220_2014</td>\n",
       "      <td>88</td>\n",
       "      <td>226</td>\n",
       "      <td>85</td>\n",
       "      <td>84</td>\n",
       "      <td>mercedes-benz</td>\n",
       "      <td>v-220</td>\n",
       "      <td>2014</td>\n",
       "      <td>mercedes-benz_v-220</td>\n",
       "      <td>18</td>\n",
       "      <td>12</td>\n",
       "      <td>524</td>\n",
       "      <td>516</td>\n",
       "    </tr>\n",
       "    <tr>\n",
       "      <th>5475</th>\n",
       "      <td>mercedes-benz_v-220_2015</td>\n",
       "      <td>94</td>\n",
       "      <td>264</td>\n",
       "      <td>91</td>\n",
       "      <td>86</td>\n",
       "      <td>mercedes-benz</td>\n",
       "      <td>v-220</td>\n",
       "      <td>2015</td>\n",
       "      <td>mercedes-benz_v-220</td>\n",
       "      <td>18</td>\n",
       "      <td>12</td>\n",
       "      <td>524</td>\n",
       "      <td>516</td>\n",
       "    </tr>\n",
       "    <tr>\n",
       "      <th>3588</th>\n",
       "      <td>mercedes-benz_v-220_2016</td>\n",
       "      <td>96</td>\n",
       "      <td>252</td>\n",
       "      <td>95</td>\n",
       "      <td>92</td>\n",
       "      <td>mercedes-benz</td>\n",
       "      <td>v-220</td>\n",
       "      <td>2016</td>\n",
       "      <td>mercedes-benz_v-220</td>\n",
       "      <td>18</td>\n",
       "      <td>12</td>\n",
       "      <td>524</td>\n",
       "      <td>516</td>\n",
       "    </tr>\n",
       "    <tr>\n",
       "      <th>589</th>\n",
       "      <td>mercedes-benz_v-220_2017</td>\n",
       "      <td>86</td>\n",
       "      <td>253</td>\n",
       "      <td>85</td>\n",
       "      <td>81</td>\n",
       "      <td>mercedes-benz</td>\n",
       "      <td>v-220</td>\n",
       "      <td>2017</td>\n",
       "      <td>mercedes-benz_v-220</td>\n",
       "      <td>18</td>\n",
       "      <td>12</td>\n",
       "      <td>524</td>\n",
       "      <td>516</td>\n",
       "    </tr>\n",
       "    <tr>\n",
       "      <th>4772</th>\n",
       "      <td>mercedes-benz_v-220_2018</td>\n",
       "      <td>100</td>\n",
       "      <td>252</td>\n",
       "      <td>100</td>\n",
       "      <td>95</td>\n",
       "      <td>mercedes-benz</td>\n",
       "      <td>v-220</td>\n",
       "      <td>2018</td>\n",
       "      <td>mercedes-benz_v-220</td>\n",
       "      <td>18</td>\n",
       "      <td>12</td>\n",
       "      <td>524</td>\n",
       "      <td>516</td>\n",
       "    </tr>\n",
       "  </tbody>\n",
       "</table>\n",
       "</div>\n",
       "      <button class=\"colab-df-convert\" onclick=\"convertToInteractive('df-7b80a390-18db-4e1b-a4fa-403864f1f5c1')\"\n",
       "              title=\"Convert this dataframe to an interactive table.\"\n",
       "              style=\"display:none;\">\n",
       "        \n",
       "  <svg xmlns=\"http://www.w3.org/2000/svg\" height=\"24px\"viewBox=\"0 0 24 24\"\n",
       "       width=\"24px\">\n",
       "    <path d=\"M0 0h24v24H0V0z\" fill=\"none\"/>\n",
       "    <path d=\"M18.56 5.44l.94 2.06.94-2.06 2.06-.94-2.06-.94-.94-2.06-.94 2.06-2.06.94zm-11 1L8.5 8.5l.94-2.06 2.06-.94-2.06-.94L8.5 2.5l-.94 2.06-2.06.94zm10 10l.94 2.06.94-2.06 2.06-.94-2.06-.94-.94-2.06-.94 2.06-2.06.94z\"/><path d=\"M17.41 7.96l-1.37-1.37c-.4-.4-.92-.59-1.43-.59-.52 0-1.04.2-1.43.59L10.3 9.45l-7.72 7.72c-.78.78-.78 2.05 0 2.83L4 21.41c.39.39.9.59 1.41.59.51 0 1.02-.2 1.41-.59l7.78-7.78 2.81-2.81c.8-.78.8-2.07 0-2.86zM5.41 20L4 18.59l7.72-7.72 1.47 1.35L5.41 20z\"/>\n",
       "  </svg>\n",
       "      </button>\n",
       "      \n",
       "  <style>\n",
       "    .colab-df-container {\n",
       "      display:flex;\n",
       "      flex-wrap:wrap;\n",
       "      gap: 12px;\n",
       "    }\n",
       "\n",
       "    .colab-df-convert {\n",
       "      background-color: #E8F0FE;\n",
       "      border: none;\n",
       "      border-radius: 50%;\n",
       "      cursor: pointer;\n",
       "      display: none;\n",
       "      fill: #1967D2;\n",
       "      height: 32px;\n",
       "      padding: 0 0 0 0;\n",
       "      width: 32px;\n",
       "    }\n",
       "\n",
       "    .colab-df-convert:hover {\n",
       "      background-color: #E2EBFA;\n",
       "      box-shadow: 0px 1px 2px rgba(60, 64, 67, 0.3), 0px 1px 3px 1px rgba(60, 64, 67, 0.15);\n",
       "      fill: #174EA6;\n",
       "    }\n",
       "\n",
       "    [theme=dark] .colab-df-convert {\n",
       "      background-color: #3B4455;\n",
       "      fill: #D2E3FC;\n",
       "    }\n",
       "\n",
       "    [theme=dark] .colab-df-convert:hover {\n",
       "      background-color: #434B5C;\n",
       "      box-shadow: 0px 1px 3px 1px rgba(0, 0, 0, 0.15);\n",
       "      filter: drop-shadow(0px 1px 2px rgba(0, 0, 0, 0.3));\n",
       "      fill: #FFFFFF;\n",
       "    }\n",
       "  </style>\n",
       "\n",
       "      <script>\n",
       "        const buttonEl =\n",
       "          document.querySelector('#df-7b80a390-18db-4e1b-a4fa-403864f1f5c1 button.colab-df-convert');\n",
       "        buttonEl.style.display =\n",
       "          google.colab.kernel.accessAllowed ? 'block' : 'none';\n",
       "\n",
       "        async function convertToInteractive(key) {\n",
       "          const element = document.querySelector('#df-7b80a390-18db-4e1b-a4fa-403864f1f5c1');\n",
       "          const dataTable =\n",
       "            await google.colab.kernel.invokeFunction('convertToInteractive',\n",
       "                                                     [key], {});\n",
       "          if (!dataTable) return;\n",
       "\n",
       "          const docLinkHtml = 'Like what you see? Visit the ' +\n",
       "            '<a target=\"_blank\" href=https://colab.research.google.com/notebooks/data_table.ipynb>data table notebook</a>'\n",
       "            + ' to learn more about interactive tables.';\n",
       "          element.innerHTML = '';\n",
       "          dataTable['output_type'] = 'display_data';\n",
       "          await google.colab.output.renderOutput(dataTable, element);\n",
       "          const docLink = document.createElement('div');\n",
       "          docLink.innerHTML = docLinkHtml;\n",
       "          element.appendChild(docLink);\n",
       "        }\n",
       "      </script>\n",
       "    </div>\n",
       "  </div>\n",
       "  "
      ],
      "text/plain": [
       "                 car_directory  cars  total  cars_70  cars_90          brand  \\\n",
       "2206           honda_hr-v_2001    77    223       76       76          honda   \n",
       "2539           honda_hr-v_2002    96    206       95       95          honda   \n",
       "4752           honda_hr-v_2003    81    171       81       80          honda   \n",
       "3096           honda_hr-v_2016   102    260      102      102          honda   \n",
       "4641           honda_hr-v_2017    46    104       44       42          honda   \n",
       "1574  mercedes-benz_v-220_2001    60    134       60       55  mercedes-benz   \n",
       "947   mercedes-benz_v-220_2014    88    226       85       84  mercedes-benz   \n",
       "5475  mercedes-benz_v-220_2015    94    264       91       86  mercedes-benz   \n",
       "3588  mercedes-benz_v-220_2016    96    252       95       92  mercedes-benz   \n",
       "589   mercedes-benz_v-220_2017    86    253       85       81  mercedes-benz   \n",
       "4772  mercedes-benz_v-220_2018   100    252      100       95  mercedes-benz   \n",
       "\n",
       "      model  year      brand_and_model  span_years  gap  cars_brand_model  \\\n",
       "2206   hr-v  2001           honda_hr-v          17   12               402   \n",
       "2539   hr-v  2002           honda_hr-v          17   12               402   \n",
       "4752   hr-v  2003           honda_hr-v          17   12               402   \n",
       "3096   hr-v  2016           honda_hr-v          17   12               402   \n",
       "4641   hr-v  2017           honda_hr-v          17   12               402   \n",
       "1574  v-220  2001  mercedes-benz_v-220          18   12               524   \n",
       "947   v-220  2014  mercedes-benz_v-220          18   12               524   \n",
       "5475  v-220  2015  mercedes-benz_v-220          18   12               524   \n",
       "3588  v-220  2016  mercedes-benz_v-220          18   12               524   \n",
       "589   v-220  2017  mercedes-benz_v-220          18   12               524   \n",
       "4772  v-220  2018  mercedes-benz_v-220          18   12               524   \n",
       "\n",
       "      cars_brand_model_70  \n",
       "2206                  398  \n",
       "2539                  398  \n",
       "4752                  398  \n",
       "3096                  398  \n",
       "4641                  398  \n",
       "1574                  516  \n",
       "947                   516  \n",
       "5475                  516  \n",
       "3588                  516  \n",
       "589                   516  \n",
       "4772                  516  "
      ]
     },
     "execution_count": 32,
     "metadata": {},
     "output_type": "execute_result"
    }
   ],
   "source": [
    "df.loc[df.gap == 12].sort_values(\"year\").sort_values(\"brand_and_model\")"
   ]
  },
  {
   "cell_type": "markdown",
   "id": "99a5d5d5-59ea-44fd-a2a1-637a35071880",
   "metadata": {
    "id": "99a5d5d5-59ea-44fd-a2a1-637a35071880"
   },
   "source": [
    "# Graphics"
   ]
  },
  {
   "cell_type": "code",
   "execution_count": null,
   "id": "0f024456-2635-47e2-969f-e75f68874cb6",
   "metadata": {
    "colab": {
     "base_uri": "https://localhost:8080/"
    },
    "executionInfo": {
     "elapsed": 349,
     "status": "ok",
     "timestamp": 1671821476392,
     "user": {
      "displayName": "Eduardo Andres",
      "userId": "05872806371588886564"
     },
     "user_tz": 180
    },
    "id": "0f024456-2635-47e2-969f-e75f68874cb6",
    "outputId": "b7e6b45e-d79c-494c-8e98-5a53fda003ef"
   },
   "outputs": [
    {
     "data": {
      "text/plain": [
       "count    6263.000000\n",
       "mean      110.397733\n",
       "std        35.378860\n",
       "min         3.000000\n",
       "25%        88.000000\n",
       "50%       102.000000\n",
       "75%       127.000000\n",
       "max       287.000000\n",
       "Name: cars_70, dtype: float64"
      ]
     },
     "execution_count": 35,
     "metadata": {},
     "output_type": "execute_result"
    }
   ],
   "source": [
    "df.cars_70.describe()"
   ]
  },
  {
   "cell_type": "code",
   "execution_count": null,
   "id": "61852ab0-d6eb-40e5-bdbf-b78c7dc2834f",
   "metadata": {
    "colab": {
     "base_uri": "https://localhost:8080/"
    },
    "executionInfo": {
     "elapsed": 6,
     "status": "ok",
     "timestamp": 1671821483595,
     "user": {
      "displayName": "Eduardo Andres",
      "userId": "05872806371588886564"
     },
     "user_tz": 180
    },
    "id": "61852ab0-d6eb-40e5-bdbf-b78c7dc2834f",
    "outputId": "d47183cd-bc38-411f-cbe1-52b65993c68d"
   },
   "outputs": [
    {
     "data": {
      "text/plain": [
       "39.64001298739649"
      ]
     },
     "execution_count": 37,
     "metadata": {},
     "output_type": "execute_result"
    }
   ],
   "source": [
    "media, desviacion = df.cars_70.mean(), df.cars_70.std()\n",
    "media-2*desviacion"
   ]
  },
  {
   "cell_type": "code",
   "execution_count": null,
   "id": "14b398e3-dcfe-41a6-91fa-826a4503cf7d",
   "metadata": {
    "colab": {
     "base_uri": "https://localhost:8080/"
    },
    "executionInfo": {
     "elapsed": 279,
     "status": "ok",
     "timestamp": 1671821512042,
     "user": {
      "displayName": "Eduardo Andres",
      "userId": "05872806371588886564"
     },
     "user_tz": 180
    },
    "id": "14b398e3-dcfe-41a6-91fa-826a4503cf7d",
    "outputId": "9c735475-f504-4fbb-ee35-344f9a71e3ca"
   },
   "outputs": [
    {
     "data": {
      "text/plain": [
       "2141"
      ]
     },
     "execution_count": 38,
     "metadata": {},
     "output_type": "execute_result"
    }
   ],
   "source": [
    "df.loc[df.cars_70< media-2*desviacion].cars.sum()"
   ]
  },
  {
   "cell_type": "code",
   "execution_count": null,
   "id": "adb107c2-43dc-47be-a02c-643310c791c4",
   "metadata": {
    "colab": {
     "base_uri": "https://localhost:8080/"
    },
    "executionInfo": {
     "elapsed": 4,
     "status": "ok",
     "timestamp": 1671821664535,
     "user": {
      "displayName": "Eduardo Andres",
      "userId": "05872806371588886564"
     },
     "user_tz": 180
    },
    "id": "adb107c2-43dc-47be-a02c-643310c791c4",
    "outputId": "732d02fb-5ece-43c5-cf6b-4c2d9cc2afaa"
   },
   "outputs": [
    {
     "name": "stdout",
     "output_type": "stream",
     "text": [
      "The folders with less than 40 cars each account for 0.31 % of the dataset.\n",
      "They are 96 subfolders of 203 distinct car models. \n",
      "\n",
      "\n",
      "The folders with less than 50 cars each account for 0.575 % of the dataset.\n",
      "They are 136 subfolders of 203 distinct car models. \n",
      "\n",
      "\n",
      "The folders with less than 60 cars each account for 1.238 % of the dataset.\n",
      "They are 217 subfolders of 203 distinct car models. \n",
      "\n",
      "\n"
     ]
    }
   ],
   "source": [
    "for i in [40, 50, 60]:\n",
    "    aaa = 100*df.loc[df.cars_70< i].cars.sum()/df.cars_70.sum()\n",
    "    print(f\"The folders with less than {i} cars each account for {aaa.round(3)} % of the dataset.\")\n",
    "    bbb = len(df.loc[df.cars_70< i])\n",
    "    ccc = df.loc[df.cars_70< 60].brand_and_model.nunique()\n",
    "    print(f\"They are {bbb} subfolders of {ccc} distinct car models. \\n\\n\")"
   ]
  }
 ],
 "metadata": {
  "colab": {
   "provenance": []
  },
  "kernelspec": {
   "display_name": "Python [conda env:anyone_1_2_3]",
   "language": "python",
   "name": "conda-env-anyone_1_2_3-py"
  },
  "language_info": {
   "codemirror_mode": {
    "name": "ipython",
    "version": 3
   },
   "file_extension": ".py",
   "mimetype": "text/x-python",
   "name": "python",
   "nbconvert_exporter": "python",
   "pygments_lexer": "ipython3",
   "version": "3.10.8"
  }
 },
 "nbformat": 4,
 "nbformat_minor": 5
}
